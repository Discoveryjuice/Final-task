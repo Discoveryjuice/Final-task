{
  "cells": [
    {
      "metadata": {
        "id": "42125b94526a44a0"
      },
      "cell_type": "markdown",
      "source": [
        "# Итоговая работа по курсу\n",
        "## 1. Загрузить файл *csv в pandas dataframe"
      ],
      "id": "42125b94526a44a0"
    },
    {
      "metadata": {
        "ExecuteTime": {
          "end_time": "2024-05-20T11:19:25.415470Z",
          "start_time": "2024-05-20T11:19:25.396597Z"
        },
        "id": "fbc121e30a2defb3"
      },
      "cell_type": "code",
      "source": [
        "import pandas as pd\n",
        "\n",
        "df = pd.read_csv(\"data/HR.csv\")"
      ],
      "id": "fbc121e30a2defb3",
      "outputs": [],
      "execution_count": null
    },
    {
      "metadata": {
        "id": "4bde2922b60c4cd3"
      },
      "cell_type": "markdown",
      "source": [
        "## 2. Рассчитать статистики для переменных: среднее, медиана, мода, мин/макс, сред. отклонение"
      ],
      "id": "4bde2922b60c4cd3"
    },
    {
      "metadata": {
        "ExecuteTime": {
          "end_time": "2024-05-20T11:19:25.461358Z",
          "start_time": "2024-05-20T11:19:25.428315Z"
        },
        "id": "47d679db71565a5c",
        "outputId": "19b7785c-dcda-472e-cc33-24f3a86fa423"
      },
      "cell_type": "code",
      "source": [
        "summary_stats = (df[\n",
        "    ['satisfaction_level', 'last_evaluation', 'number_project', 'average_monthly_hours', 'time_spend_company',\n",
        "     'Work_accident', 'left', 'promotion_last_5years']\n",
        "].\n",
        "agg(['mean', 'median', 'min', 'max', 'std', lambda x: x.mode().iloc[0]]).\n",
        "rename(\n",
        "    index={'mean': 'Mean', 'median': 'Median', 'min': 'Min', 'max': 'Max', 'std': 'Standard deviation',\n",
        "           '<lambda>': 'Mode'}\n",
        "))\n",
        "\n",
        "summary_stats = summary_stats.rename(\n",
        "    index={'mean': 'Mean', 'median': 'Median', 'min': 'Min', 'max': 'Max', 'std': 'Standard deviation',\n",
        "           '<lambda>': 'Mode'}\n",
        ")\n",
        "\n",
        "summary_stats"
      ],
      "id": "47d679db71565a5c",
      "outputs": [
        {
          "data": {
            "text/plain": [
              "                    satisfaction_level  last_evaluation  number_project  \\\n",
              "Mean                          0.612834         0.716102        3.803054   \n",
              "Median                        0.640000         0.720000        4.000000   \n",
              "Min                           0.090000         0.360000        2.000000   \n",
              "Max                           1.000000         1.000000        7.000000   \n",
              "Standard deviation            0.248631         0.171169        1.232592   \n",
              "Mode                          0.100000         0.550000        4.000000   \n",
              "\n",
              "                    average_monthly_hours  time_spend_company  Work_accident  \\\n",
              "Mean                           201.050337            3.498233       0.144610   \n",
              "Median                         200.000000            3.000000       0.000000   \n",
              "Min                             96.000000            2.000000       0.000000   \n",
              "Max                            310.000000           10.000000       1.000000   \n",
              "Standard deviation              49.943099            1.460136       0.351719   \n",
              "Mode                           135.000000            3.000000       0.000000   \n",
              "\n",
              "                        left  promotion_last_5years  \n",
              "Mean                0.238083               0.021268  \n",
              "Median              0.000000               0.000000  \n",
              "Min                 0.000000               0.000000  \n",
              "Max                 1.000000               1.000000  \n",
              "Standard deviation  0.425924               0.144281  \n",
              "Mode                0.000000               0.000000  "
            ],
            "text/html": [
              "<div>\n",
              "<style scoped>\n",
              "    .dataframe tbody tr th:only-of-type {\n",
              "        vertical-align: middle;\n",
              "    }\n",
              "\n",
              "    .dataframe tbody tr th {\n",
              "        vertical-align: top;\n",
              "    }\n",
              "\n",
              "    .dataframe thead th {\n",
              "        text-align: right;\n",
              "    }\n",
              "</style>\n",
              "<table border=\"1\" class=\"dataframe\">\n",
              "  <thead>\n",
              "    <tr style=\"text-align: right;\">\n",
              "      <th></th>\n",
              "      <th>satisfaction_level</th>\n",
              "      <th>last_evaluation</th>\n",
              "      <th>number_project</th>\n",
              "      <th>average_monthly_hours</th>\n",
              "      <th>time_spend_company</th>\n",
              "      <th>Work_accident</th>\n",
              "      <th>left</th>\n",
              "      <th>promotion_last_5years</th>\n",
              "    </tr>\n",
              "  </thead>\n",
              "  <tbody>\n",
              "    <tr>\n",
              "      <th>Mean</th>\n",
              "      <td>0.612834</td>\n",
              "      <td>0.716102</td>\n",
              "      <td>3.803054</td>\n",
              "      <td>201.050337</td>\n",
              "      <td>3.498233</td>\n",
              "      <td>0.144610</td>\n",
              "      <td>0.238083</td>\n",
              "      <td>0.021268</td>\n",
              "    </tr>\n",
              "    <tr>\n",
              "      <th>Median</th>\n",
              "      <td>0.640000</td>\n",
              "      <td>0.720000</td>\n",
              "      <td>4.000000</td>\n",
              "      <td>200.000000</td>\n",
              "      <td>3.000000</td>\n",
              "      <td>0.000000</td>\n",
              "      <td>0.000000</td>\n",
              "      <td>0.000000</td>\n",
              "    </tr>\n",
              "    <tr>\n",
              "      <th>Min</th>\n",
              "      <td>0.090000</td>\n",
              "      <td>0.360000</td>\n",
              "      <td>2.000000</td>\n",
              "      <td>96.000000</td>\n",
              "      <td>2.000000</td>\n",
              "      <td>0.000000</td>\n",
              "      <td>0.000000</td>\n",
              "      <td>0.000000</td>\n",
              "    </tr>\n",
              "    <tr>\n",
              "      <th>Max</th>\n",
              "      <td>1.000000</td>\n",
              "      <td>1.000000</td>\n",
              "      <td>7.000000</td>\n",
              "      <td>310.000000</td>\n",
              "      <td>10.000000</td>\n",
              "      <td>1.000000</td>\n",
              "      <td>1.000000</td>\n",
              "      <td>1.000000</td>\n",
              "    </tr>\n",
              "    <tr>\n",
              "      <th>Standard deviation</th>\n",
              "      <td>0.248631</td>\n",
              "      <td>0.171169</td>\n",
              "      <td>1.232592</td>\n",
              "      <td>49.943099</td>\n",
              "      <td>1.460136</td>\n",
              "      <td>0.351719</td>\n",
              "      <td>0.425924</td>\n",
              "      <td>0.144281</td>\n",
              "    </tr>\n",
              "    <tr>\n",
              "      <th>Mode</th>\n",
              "      <td>0.100000</td>\n",
              "      <td>0.550000</td>\n",
              "      <td>4.000000</td>\n",
              "      <td>135.000000</td>\n",
              "      <td>3.000000</td>\n",
              "      <td>0.000000</td>\n",
              "      <td>0.000000</td>\n",
              "      <td>0.000000</td>\n",
              "    </tr>\n",
              "  </tbody>\n",
              "</table>\n",
              "</div>"
            ]
          },
          "execution_count": 99,
          "metadata": {},
          "output_type": "execute_result"
        }
      ],
      "execution_count": null
    },
    {
      "metadata": {
        "id": "bb8a04efbdf5c8b7"
      },
      "cell_type": "markdown",
      "source": [
        "## 3. Рассчитать и визуализировать корреляционную матрицу для количественных переменных"
      ],
      "id": "bb8a04efbdf5c8b7"
    },
    {
      "metadata": {
        "ExecuteTime": {
          "end_time": "2024-05-20T11:19:25.485352Z",
          "start_time": "2024-05-20T11:19:25.463367Z"
        },
        "id": "30a383b3d794d604",
        "outputId": "3aa77e4c-898f-4796-8da4-793d5f7bb91b"
      },
      "cell_type": "code",
      "source": [
        "df[['satisfaction_level', 'last_evaluation', 'number_project', 'average_monthly_hours', 'time_spend_company',\n",
        "    'Work_accident', 'left', 'promotion_last_5years']].corr()\n"
      ],
      "id": "30a383b3d794d604",
      "outputs": [
        {
          "data": {
            "text/plain": [
              "                       satisfaction_level  last_evaluation  number_project  \\\n",
              "satisfaction_level               1.000000         0.105021       -0.142970   \n",
              "last_evaluation                  0.105021         1.000000        0.349333   \n",
              "number_project                  -0.142970         0.349333        1.000000   \n",
              "average_monthly_hours           -0.020048         0.339742        0.417211   \n",
              "time_spend_company              -0.100866         0.131591        0.196786   \n",
              "Work_accident                    0.058697        -0.007104       -0.004741   \n",
              "left                            -0.388375         0.006567        0.023787   \n",
              "promotion_last_5years            0.025605        -0.008684       -0.006064   \n",
              "\n",
              "                       average_monthly_hours  time_spend_company  \\\n",
              "satisfaction_level                 -0.020048           -0.100866   \n",
              "last_evaluation                     0.339742            0.131591   \n",
              "number_project                      0.417211            0.196786   \n",
              "average_monthly_hours               1.000000            0.127755   \n",
              "time_spend_company                  0.127755            1.000000   \n",
              "Work_accident                      -0.010143            0.002120   \n",
              "left                                0.071287            0.144822   \n",
              "promotion_last_5years              -0.003544            0.067433   \n",
              "\n",
              "                       Work_accident      left  promotion_last_5years  \n",
              "satisfaction_level          0.058697 -0.388375               0.025605  \n",
              "last_evaluation            -0.007104  0.006567              -0.008684  \n",
              "number_project             -0.004741  0.023787              -0.006064  \n",
              "average_monthly_hours      -0.010143  0.071287              -0.003544  \n",
              "time_spend_company          0.002120  0.144822               0.067433  \n",
              "Work_accident               1.000000 -0.154622               0.039245  \n",
              "left                       -0.154622  1.000000              -0.061788  \n",
              "promotion_last_5years       0.039245 -0.061788               1.000000  "
            ],
            "text/html": [
              "<div>\n",
              "<style scoped>\n",
              "    .dataframe tbody tr th:only-of-type {\n",
              "        vertical-align: middle;\n",
              "    }\n",
              "\n",
              "    .dataframe tbody tr th {\n",
              "        vertical-align: top;\n",
              "    }\n",
              "\n",
              "    .dataframe thead th {\n",
              "        text-align: right;\n",
              "    }\n",
              "</style>\n",
              "<table border=\"1\" class=\"dataframe\">\n",
              "  <thead>\n",
              "    <tr style=\"text-align: right;\">\n",
              "      <th></th>\n",
              "      <th>satisfaction_level</th>\n",
              "      <th>last_evaluation</th>\n",
              "      <th>number_project</th>\n",
              "      <th>average_monthly_hours</th>\n",
              "      <th>time_spend_company</th>\n",
              "      <th>Work_accident</th>\n",
              "      <th>left</th>\n",
              "      <th>promotion_last_5years</th>\n",
              "    </tr>\n",
              "  </thead>\n",
              "  <tbody>\n",
              "    <tr>\n",
              "      <th>satisfaction_level</th>\n",
              "      <td>1.000000</td>\n",
              "      <td>0.105021</td>\n",
              "      <td>-0.142970</td>\n",
              "      <td>-0.020048</td>\n",
              "      <td>-0.100866</td>\n",
              "      <td>0.058697</td>\n",
              "      <td>-0.388375</td>\n",
              "      <td>0.025605</td>\n",
              "    </tr>\n",
              "    <tr>\n",
              "      <th>last_evaluation</th>\n",
              "      <td>0.105021</td>\n",
              "      <td>1.000000</td>\n",
              "      <td>0.349333</td>\n",
              "      <td>0.339742</td>\n",
              "      <td>0.131591</td>\n",
              "      <td>-0.007104</td>\n",
              "      <td>0.006567</td>\n",
              "      <td>-0.008684</td>\n",
              "    </tr>\n",
              "    <tr>\n",
              "      <th>number_project</th>\n",
              "      <td>-0.142970</td>\n",
              "      <td>0.349333</td>\n",
              "      <td>1.000000</td>\n",
              "      <td>0.417211</td>\n",
              "      <td>0.196786</td>\n",
              "      <td>-0.004741</td>\n",
              "      <td>0.023787</td>\n",
              "      <td>-0.006064</td>\n",
              "    </tr>\n",
              "    <tr>\n",
              "      <th>average_monthly_hours</th>\n",
              "      <td>-0.020048</td>\n",
              "      <td>0.339742</td>\n",
              "      <td>0.417211</td>\n",
              "      <td>1.000000</td>\n",
              "      <td>0.127755</td>\n",
              "      <td>-0.010143</td>\n",
              "      <td>0.071287</td>\n",
              "      <td>-0.003544</td>\n",
              "    </tr>\n",
              "    <tr>\n",
              "      <th>time_spend_company</th>\n",
              "      <td>-0.100866</td>\n",
              "      <td>0.131591</td>\n",
              "      <td>0.196786</td>\n",
              "      <td>0.127755</td>\n",
              "      <td>1.000000</td>\n",
              "      <td>0.002120</td>\n",
              "      <td>0.144822</td>\n",
              "      <td>0.067433</td>\n",
              "    </tr>\n",
              "    <tr>\n",
              "      <th>Work_accident</th>\n",
              "      <td>0.058697</td>\n",
              "      <td>-0.007104</td>\n",
              "      <td>-0.004741</td>\n",
              "      <td>-0.010143</td>\n",
              "      <td>0.002120</td>\n",
              "      <td>1.000000</td>\n",
              "      <td>-0.154622</td>\n",
              "      <td>0.039245</td>\n",
              "    </tr>\n",
              "    <tr>\n",
              "      <th>left</th>\n",
              "      <td>-0.388375</td>\n",
              "      <td>0.006567</td>\n",
              "      <td>0.023787</td>\n",
              "      <td>0.071287</td>\n",
              "      <td>0.144822</td>\n",
              "      <td>-0.154622</td>\n",
              "      <td>1.000000</td>\n",
              "      <td>-0.061788</td>\n",
              "    </tr>\n",
              "    <tr>\n",
              "      <th>promotion_last_5years</th>\n",
              "      <td>0.025605</td>\n",
              "      <td>-0.008684</td>\n",
              "      <td>-0.006064</td>\n",
              "      <td>-0.003544</td>\n",
              "      <td>0.067433</td>\n",
              "      <td>0.039245</td>\n",
              "      <td>-0.061788</td>\n",
              "      <td>1.000000</td>\n",
              "    </tr>\n",
              "  </tbody>\n",
              "</table>\n",
              "</div>"
            ]
          },
          "execution_count": 100,
          "metadata": {},
          "output_type": "execute_result"
        }
      ],
      "execution_count": null
    },
    {
      "metadata": {
        "id": "a4dbf81944625903"
      },
      "cell_type": "markdown",
      "source": [
        "## 4. Рассчитать, сколько сотрудников работает в каждом департаменте"
      ],
      "id": "a4dbf81944625903"
    },
    {
      "metadata": {
        "ExecuteTime": {
          "end_time": "2024-05-20T11:19:25.494957Z",
          "start_time": "2024-05-20T11:19:25.486363Z"
        },
        "id": "5588a3432dd05097",
        "outputId": "88923bb3-013d-44c5-c3d9-c59414569259"
      },
      "cell_type": "code",
      "source": [
        "department_count = df.groupby('department').size()\n",
        "department_count"
      ],
      "id": "5588a3432dd05097",
      "outputs": [
        {
          "data": {
            "text/plain": [
              "department\n",
              "IT             1227\n",
              "RandD           787\n",
              "accounting      767\n",
              "hr              739\n",
              "management      630\n",
              "marketing       858\n",
              "product_mng     902\n",
              "sales          4140\n",
              "support        2229\n",
              "technical      2720\n",
              "dtype: int64"
            ]
          },
          "execution_count": 101,
          "metadata": {},
          "output_type": "execute_result"
        }
      ],
      "execution_count": null
    },
    {
      "metadata": {
        "id": "ca1024bdfa160dec"
      },
      "cell_type": "markdown",
      "source": [
        "## 5. Показать распределение сотрудников по зарплатам"
      ],
      "id": "ca1024bdfa160dec"
    },
    {
      "metadata": {
        "ExecuteTime": {
          "end_time": "2024-05-20T11:19:25.507543Z",
          "start_time": "2024-05-20T11:19:25.498219Z"
        },
        "id": "167dbd1cc19fad40",
        "outputId": "981e1ac3-316e-4479-ef68-8d986cddfdd8"
      },
      "cell_type": "code",
      "source": [
        "df['salary'].value_counts()"
      ],
      "id": "167dbd1cc19fad40",
      "outputs": [
        {
          "data": {
            "text/plain": [
              "salary\n",
              "low       7316\n",
              "medium    6446\n",
              "high      1237\n",
              "Name: count, dtype: int64"
            ]
          },
          "execution_count": 102,
          "metadata": {},
          "output_type": "execute_result"
        }
      ],
      "execution_count": null
    },
    {
      "metadata": {
        "id": "d900389a09e805b5"
      },
      "cell_type": "markdown",
      "source": [
        "## 6. Показать распределение сотрудников по зарплатам в каждом департаменте по отдельности"
      ],
      "id": "d900389a09e805b5"
    },
    {
      "metadata": {
        "ExecuteTime": {
          "end_time": "2024-05-20T11:19:25.525821Z",
          "start_time": "2024-05-20T11:19:25.508650Z"
        },
        "id": "533ff431f2fcbcf4",
        "outputId": "2b659fd8-dfde-4019-f7b6-1a91640202cf"
      },
      "cell_type": "code",
      "source": [
        "df.groupby(['department', 'salary']).size()"
      ],
      "id": "533ff431f2fcbcf4",
      "outputs": [
        {
          "data": {
            "text/plain": [
              "department   salary\n",
              "IT           high        83\n",
              "             low        609\n",
              "             medium     535\n",
              "RandD        high        51\n",
              "             low        364\n",
              "             medium     372\n",
              "accounting   high        74\n",
              "             low        358\n",
              "             medium     335\n",
              "hr           high        45\n",
              "             low        335\n",
              "             medium     359\n",
              "management   high       225\n",
              "             low        180\n",
              "             medium     225\n",
              "marketing    high        80\n",
              "             low        402\n",
              "             medium     376\n",
              "product_mng  high        68\n",
              "             low        451\n",
              "             medium     383\n",
              "sales        high       269\n",
              "             low       2099\n",
              "             medium    1772\n",
              "support      high       141\n",
              "             low       1146\n",
              "             medium     942\n",
              "technical    high       201\n",
              "             low       1372\n",
              "             medium    1147\n",
              "dtype: int64"
            ]
          },
          "execution_count": 103,
          "metadata": {},
          "output_type": "execute_result"
        }
      ],
      "execution_count": null
    },
    {
      "metadata": {
        "id": "36a8fb476e1ff015"
      },
      "cell_type": "markdown",
      "source": [
        "## 7. Проверить гипотезу, что сотрудники с высоким окладом проводят на работе больше времени, чем сотрудники с низким окладом\n",
        "\n",
        "Гипотеза не подтвердилась, явной зависимости оклада от проведенного времени не видно, сотрудники с разным окладом в среднем работают примерно одинаковое кол-во часов"
      ],
      "id": "36a8fb476e1ff015"
    },
    {
      "metadata": {
        "ExecuteTime": {
          "end_time": "2024-05-20T11:19:25.545256Z",
          "start_time": "2024-05-20T11:19:25.527516Z"
        },
        "id": "12e9e23bbfa6266a",
        "outputId": "36db90a6-ba9c-470f-a468-0230ab64c662"
      },
      "cell_type": "code",
      "source": [
        "df.groupby('salary')['average_monthly_hours'].agg(['mean', 'median', 'min', 'max', 'std'])"
      ],
      "id": "12e9e23bbfa6266a",
      "outputs": [
        {
          "data": {
            "text/plain": [
              "              mean  median  min  max        std\n",
              "salary                                         \n",
              "high    199.867421   199.0   96  307  47.710446\n",
              "low     200.996583   199.0   96  310  50.832214\n",
              "medium  201.338349   201.0   96  310  49.344188"
            ],
            "text/html": [
              "<div>\n",
              "<style scoped>\n",
              "    .dataframe tbody tr th:only-of-type {\n",
              "        vertical-align: middle;\n",
              "    }\n",
              "\n",
              "    .dataframe tbody tr th {\n",
              "        vertical-align: top;\n",
              "    }\n",
              "\n",
              "    .dataframe thead th {\n",
              "        text-align: right;\n",
              "    }\n",
              "</style>\n",
              "<table border=\"1\" class=\"dataframe\">\n",
              "  <thead>\n",
              "    <tr style=\"text-align: right;\">\n",
              "      <th></th>\n",
              "      <th>mean</th>\n",
              "      <th>median</th>\n",
              "      <th>min</th>\n",
              "      <th>max</th>\n",
              "      <th>std</th>\n",
              "    </tr>\n",
              "    <tr>\n",
              "      <th>salary</th>\n",
              "      <th></th>\n",
              "      <th></th>\n",
              "      <th></th>\n",
              "      <th></th>\n",
              "      <th></th>\n",
              "    </tr>\n",
              "  </thead>\n",
              "  <tbody>\n",
              "    <tr>\n",
              "      <th>high</th>\n",
              "      <td>199.867421</td>\n",
              "      <td>199.0</td>\n",
              "      <td>96</td>\n",
              "      <td>307</td>\n",
              "      <td>47.710446</td>\n",
              "    </tr>\n",
              "    <tr>\n",
              "      <th>low</th>\n",
              "      <td>200.996583</td>\n",
              "      <td>199.0</td>\n",
              "      <td>96</td>\n",
              "      <td>310</td>\n",
              "      <td>50.832214</td>\n",
              "    </tr>\n",
              "    <tr>\n",
              "      <th>medium</th>\n",
              "      <td>201.338349</td>\n",
              "      <td>201.0</td>\n",
              "      <td>96</td>\n",
              "      <td>310</td>\n",
              "      <td>49.344188</td>\n",
              "    </tr>\n",
              "  </tbody>\n",
              "</table>\n",
              "</div>"
            ]
          },
          "execution_count": 104,
          "metadata": {},
          "output_type": "execute_result"
        }
      ],
      "execution_count": null
    },
    {
      "metadata": {
        "id": "907d102480bb94ca"
      },
      "cell_type": "markdown",
      "source": [
        "## 8. Рассчитать среди уволившихся и не уволившихся сотрудников (по отдельности): долю сотрудников с повышением за последние 5 лет; среднюю степень удовлетворенности, среднее количество проектов"
      ],
      "id": "907d102480bb94ca"
    },
    {
      "metadata": {
        "ExecuteTime": {
          "end_time": "2024-05-20T11:19:25.562113Z",
          "start_time": "2024-05-20T11:19:25.546266Z"
        },
        "id": "d7ccfe7aa3753e79",
        "outputId": "bddbcb40-87fb-4375-8f6e-be3977d00113"
      },
      "cell_type": "code",
      "source": [
        "data = df[\n",
        "    ['promotion_last_5years', 'satisfaction_level', 'number_project', 'left']\n",
        "].groupby('left').mean()\n",
        "\n",
        "data['promotion_last_5years'] = data['promotion_last_5years'].map(lambda x: x * 100)\n",
        "\n",
        "data = data.rename(columns = {'promotion_last_5years': 'promotion_last_5years (%)'})\n",
        "\n",
        "data\n"
      ],
      "id": "d7ccfe7aa3753e79",
      "outputs": [
        {
          "data": {
            "text/plain": [
              "      promotion_last_5years (%)  satisfaction_level  number_project\n",
              "left                                                               \n",
              "0                      2.625131            0.666810        3.786664\n",
              "1                      0.532064            0.440098        3.855503"
            ],
            "text/html": [
              "<div>\n",
              "<style scoped>\n",
              "    .dataframe tbody tr th:only-of-type {\n",
              "        vertical-align: middle;\n",
              "    }\n",
              "\n",
              "    .dataframe tbody tr th {\n",
              "        vertical-align: top;\n",
              "    }\n",
              "\n",
              "    .dataframe thead th {\n",
              "        text-align: right;\n",
              "    }\n",
              "</style>\n",
              "<table border=\"1\" class=\"dataframe\">\n",
              "  <thead>\n",
              "    <tr style=\"text-align: right;\">\n",
              "      <th></th>\n",
              "      <th>promotion_last_5years (%)</th>\n",
              "      <th>satisfaction_level</th>\n",
              "      <th>number_project</th>\n",
              "    </tr>\n",
              "    <tr>\n",
              "      <th>left</th>\n",
              "      <th></th>\n",
              "      <th></th>\n",
              "      <th></th>\n",
              "    </tr>\n",
              "  </thead>\n",
              "  <tbody>\n",
              "    <tr>\n",
              "      <th>0</th>\n",
              "      <td>2.625131</td>\n",
              "      <td>0.666810</td>\n",
              "      <td>3.786664</td>\n",
              "    </tr>\n",
              "    <tr>\n",
              "      <th>1</th>\n",
              "      <td>0.532064</td>\n",
              "      <td>0.440098</td>\n",
              "      <td>3.855503</td>\n",
              "    </tr>\n",
              "  </tbody>\n",
              "</table>\n",
              "</div>"
            ]
          },
          "execution_count": 105,
          "metadata": {},
          "output_type": "execute_result"
        }
      ],
      "execution_count": null
    }
  ],
  "metadata": {
    "kernelspec": {
      "display_name": "Python 3",
      "language": "python",
      "name": "python3"
    },
    "language_info": {
      "codemirror_mode": {
        "name": "ipython",
        "version": 2
      },
      "file_extension": ".py",
      "mimetype": "text/x-python",
      "name": "python",
      "nbconvert_exporter": "python",
      "pygments_lexer": "ipython2",
      "version": "2.7.6"
    },
    "colab": {
      "provenance": []
    }
  },
  "nbformat": 4,
  "nbformat_minor": 5
}